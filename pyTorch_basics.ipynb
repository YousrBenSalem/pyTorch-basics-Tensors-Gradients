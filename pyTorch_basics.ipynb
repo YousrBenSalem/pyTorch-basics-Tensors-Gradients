{
  "nbformat": 4,
  "nbformat_minor": 0,
  "metadata": {
    "colab": {
      "provenance": []
    },
    "kernelspec": {
      "name": "python3",
      "display_name": "Python 3"
    },
    "language_info": {
      "name": "python"
    }
  },
  "cells": [
    {
      "cell_type": "code",
      "execution_count": 1,
      "metadata": {
        "id": "SQim4aI1LNn3",
        "colab": {
          "base_uri": "https://localhost:8080/"
        },
        "outputId": "098b91cf-0693-410d-8f78-c8b2c14a0c2c"
      },
      "outputs": [
        {
          "output_type": "stream",
          "name": "stdout",
          "text": [
            "\u001b[?25l     \u001b[90m━━━━━━━━━━━━━━━━━━━━━━━━━━━━━━━━━━━━━━━━\u001b[0m \u001b[32m0.0/68.6 kB\u001b[0m \u001b[31m?\u001b[0m eta \u001b[36m-:--:--\u001b[0m\r\u001b[2K     \u001b[91m━━━━━━━━━━━\u001b[0m\u001b[91m╸\u001b[0m\u001b[90m━━━━━━━━━━━━━━━━━━━━━━━━━━━━\u001b[0m \u001b[32m20.5/68.6 kB\u001b[0m \u001b[31m410.7 kB/s\u001b[0m eta \u001b[36m0:00:01\u001b[0m\r\u001b[2K     \u001b[91m━━━━━━━━━━━━━━━━━━━━━━━━━━━━━\u001b[0m\u001b[91m╸\u001b[0m\u001b[90m━━━━━━━━━━\u001b[0m \u001b[32m51.2/68.6 kB\u001b[0m \u001b[31m623.0 kB/s\u001b[0m eta \u001b[36m0:00:01\u001b[0m\r\u001b[2K     \u001b[90m━━━━━━━━━━━━━━━━━━━━━━━━━━━━━━━━━━━━━━━━\u001b[0m \u001b[32m68.6/68.6 kB\u001b[0m \u001b[31m630.0 kB/s\u001b[0m eta \u001b[36m0:00:00\u001b[0m\n",
            "\u001b[?25h  Preparing metadata (setup.py) ... \u001b[?25l\u001b[?25hdone\n",
            "  Building wheel for uuid (setup.py) ... \u001b[?25l\u001b[?25hdone\n"
          ]
        }
      ],
      "source": [
        "!pip install jovian --upgrade -q\n",
        "import jovian\n",
        "jovian.utils.colab.set_colab_file_id('lVRbUpx8uF22Tzy2_xRmLw09h-ytekiAm')"
      ]
    },
    {
      "cell_type": "markdown",
      "source": [
        "let's import the **torch** module"
      ],
      "metadata": {
        "id": "jynBFvHAsxEI"
      }
    },
    {
      "cell_type": "code",
      "source": [
        "import torch"
      ],
      "metadata": {
        "id": "uThKGJUws7eQ"
      },
      "execution_count": 2,
      "outputs": []
    },
    {
      "cell_type": "markdown",
      "source": [
        "**Tensors**"
      ],
      "metadata": {
        "id": "5iT67XKetpms"
      }
    },
    {
      "cell_type": "markdown",
      "source": [
        "PyTorch est une bibliothèque permettant de traiter les tensors. Un tensor est un nombre, un vecteur, une matrice ou tout autre tableau à n dimensions."
      ],
      "metadata": {
        "id": "Tzel3AdbtuTV"
      }
    },
    {
      "cell_type": "code",
      "source": [
        "# Number\n",
        "t1= torch.tensor(4.)\n",
        "t1"
      ],
      "metadata": {
        "colab": {
          "base_uri": "https://localhost:8080/"
        },
        "id": "WGvJnFvguOE-",
        "outputId": "233a395e-59c5-44cf-fa20-38c20bfc770d"
      },
      "execution_count": 3,
      "outputs": [
        {
          "output_type": "execute_result",
          "data": {
            "text/plain": [
              "tensor(4.)"
            ]
          },
          "metadata": {},
          "execution_count": 3
        }
      ]
    },
    {
      "cell_type": "markdown",
      "source": [
        "4. est un raccourci pour 4.0 .Il est utilisé pour indiquer à Python (et PyTorch) que vous voulez créer un nombre à virgule flottante . Nous pouvons le vérifier en contrôlant l'attribut **dtype** de notre tenseur"
      ],
      "metadata": {
        "id": "FvSAhrWvvbZg"
      }
    },
    {
      "cell_type": "code",
      "source": [
        "t1.dtype"
      ],
      "metadata": {
        "colab": {
          "base_uri": "https://localhost:8080/"
        },
        "id": "Rqyc5QlvvY8u",
        "outputId": "65bd13ed-baa6-4878-a56c-c4d24dca27f5"
      },
      "execution_count": 4,
      "outputs": [
        {
          "output_type": "execute_result",
          "data": {
            "text/plain": [
              "torch.float32"
            ]
          },
          "metadata": {},
          "execution_count": 4
        }
      ]
    },
    {
      "cell_type": "code",
      "source": [
        "# vector\n",
        "t2=torch.tensor([1. , 2 , 3 , 4])\n",
        "t2"
      ],
      "metadata": {
        "colab": {
          "base_uri": "https://localhost:8080/"
        },
        "id": "Y6msBWwww2ad",
        "outputId": "2105d00c-1938-43d8-a7d8-63c5270a81fe"
      },
      "execution_count": 5,
      "outputs": [
        {
          "output_type": "execute_result",
          "data": {
            "text/plain": [
              "tensor([1., 2., 3., 4.])"
            ]
          },
          "metadata": {},
          "execution_count": 5
        }
      ]
    },
    {
      "cell_type": "code",
      "source": [
        "t2.dtype"
      ],
      "metadata": {
        "colab": {
          "base_uri": "https://localhost:8080/"
        },
        "id": "KCNOK8p9z1B0",
        "outputId": "d4032d5f-4c47-49ed-d017-860045994dd0"
      },
      "execution_count": 10,
      "outputs": [
        {
          "output_type": "execute_result",
          "data": {
            "text/plain": [
              "torch.float32"
            ]
          },
          "metadata": {},
          "execution_count": 10
        }
      ]
    },
    {
      "cell_type": "code",
      "source": [
        "#Matrix\n",
        "t3 = torch.tensor([[5., 6],\n",
        "                   [7 , 8],\n",
        "                   [9 , 10]])\n",
        "t3"
      ],
      "metadata": {
        "colab": {
          "base_uri": "https://localhost:8080/"
        },
        "id": "pLVH3qESyjEL",
        "outputId": "13f7ac0f-4cd9-46c8-9be1-7980c7ee40a0"
      },
      "execution_count": 7,
      "outputs": [
        {
          "output_type": "execute_result",
          "data": {
            "text/plain": [
              "tensor([[ 5.,  6.],\n",
              "        [ 7.,  8.],\n",
              "        [ 9., 10.]])"
            ]
          },
          "metadata": {},
          "execution_count": 7
        }
      ]
    },
    {
      "cell_type": "code",
      "source": [
        "t3.dtype"
      ],
      "metadata": {
        "colab": {
          "base_uri": "https://localhost:8080/"
        },
        "id": "LA6zsPF2z5kx",
        "outputId": "dc5c4c3b-b3e1-44fa-b9cc-b0b16a882fc3"
      },
      "execution_count": 11,
      "outputs": [
        {
          "output_type": "execute_result",
          "data": {
            "text/plain": [
              "torch.float32"
            ]
          },
          "metadata": {},
          "execution_count": 11
        }
      ]
    },
    {
      "cell_type": "code",
      "source": [
        "#3-dimensional array\n",
        "t4 = torch.tensor([\n",
        "    [[11,12,13],\n",
        "     [13,14,15]],\n",
        "    [[15,16,17],\n",
        "     [17,18,19.]]\n",
        "    ])\n",
        "t4"
      ],
      "metadata": {
        "colab": {
          "base_uri": "https://localhost:8080/"
        },
        "id": "_dpHkQh2y1V7",
        "outputId": "0a077cef-ca9a-4cbe-8679-57fbec64c3c0"
      },
      "execution_count": 9,
      "outputs": [
        {
          "output_type": "execute_result",
          "data": {
            "text/plain": [
              "tensor([[[11., 12., 13.],\n",
              "         [13., 14., 15.]],\n",
              "\n",
              "        [[15., 16., 17.],\n",
              "         [17., 18., 19.]]])"
            ]
          },
          "metadata": {},
          "execution_count": 9
        }
      ]
    },
    {
      "cell_type": "code",
      "source": [
        "t4.dtype"
      ],
      "metadata": {
        "colab": {
          "base_uri": "https://localhost:8080/"
        },
        "id": "L7766HXJz8UT",
        "outputId": "2c539e7f-98ce-4e4c-903e-04dde09083e7"
      },
      "execution_count": 12,
      "outputs": [
        {
          "output_type": "execute_result",
          "data": {
            "text/plain": [
              "torch.float32"
            ]
          },
          "metadata": {},
          "execution_count": 12
        }
      ]
    },
    {
      "cell_type": "markdown",
      "source": [
        "Les Tensors peuvent avoir un nombre quelconque de dimensions et différentes longueurs le long de chaque dimension. Nous pouvons vérifier la longueur le long de chaque dimension en utilisant la propriété **.shape** d'un tensor."
      ],
      "metadata": {
        "id": "8knR-rnv0E2R"
      }
    },
    {
      "cell_type": "code",
      "source": [
        "print(t1)\n",
        "t1.shape"
      ],
      "metadata": {
        "colab": {
          "base_uri": "https://localhost:8080/"
        },
        "id": "e7p5Pezk0hfK",
        "outputId": "4166544a-5a10-4f6d-e990-7984fb8a75f0"
      },
      "execution_count": 14,
      "outputs": [
        {
          "output_type": "stream",
          "name": "stdout",
          "text": [
            "tensor(4.)\n"
          ]
        },
        {
          "output_type": "execute_result",
          "data": {
            "text/plain": [
              "torch.Size([])"
            ]
          },
          "metadata": {},
          "execution_count": 14
        }
      ]
    },
    {
      "cell_type": "code",
      "source": [
        "print(t2)\n",
        "t2.shape"
      ],
      "metadata": {
        "colab": {
          "base_uri": "https://localhost:8080/"
        },
        "id": "2LL6xiGX1d1W",
        "outputId": "7db3e5ca-f8a0-4d16-def5-0656157a678f"
      },
      "execution_count": 15,
      "outputs": [
        {
          "output_type": "stream",
          "name": "stdout",
          "text": [
            "tensor([1., 2., 3., 4.])\n"
          ]
        },
        {
          "output_type": "execute_result",
          "data": {
            "text/plain": [
              "torch.Size([4])"
            ]
          },
          "metadata": {},
          "execution_count": 15
        }
      ]
    },
    {
      "cell_type": "code",
      "source": [
        "print(t3)\n",
        "t3.shape"
      ],
      "metadata": {
        "colab": {
          "base_uri": "https://localhost:8080/"
        },
        "id": "DSVNqE591gzY",
        "outputId": "efbaa896-559e-44b5-8dd9-49c8c97f9e26"
      },
      "execution_count": 16,
      "outputs": [
        {
          "output_type": "stream",
          "name": "stdout",
          "text": [
            "tensor([[ 5.,  6.],\n",
            "        [ 7.,  8.],\n",
            "        [ 9., 10.]])\n"
          ]
        },
        {
          "output_type": "execute_result",
          "data": {
            "text/plain": [
              "torch.Size([3, 2])"
            ]
          },
          "metadata": {},
          "execution_count": 16
        }
      ]
    },
    {
      "cell_type": "code",
      "source": [
        "print(t4)\n",
        "t4.shape"
      ],
      "metadata": {
        "colab": {
          "base_uri": "https://localhost:8080/"
        },
        "id": "xnH-uDgu1l8w",
        "outputId": "d318d78a-f017-49ba-e8c6-42ec2c0bf7a4"
      },
      "execution_count": 17,
      "outputs": [
        {
          "output_type": "stream",
          "name": "stdout",
          "text": [
            "tensor([[[11., 12., 13.],\n",
            "         [13., 14., 15.]],\n",
            "\n",
            "        [[15., 16., 17.],\n",
            "         [17., 18., 19.]]])\n"
          ]
        },
        {
          "output_type": "execute_result",
          "data": {
            "text/plain": [
              "torch.Size([2, 2, 3])"
            ]
          },
          "metadata": {},
          "execution_count": 17
        }
      ]
    },
    {
      "cell_type": "markdown",
      "source": [
        "**Tensor operations and gradients**"
      ],
      "metadata": {
        "id": "SvxlFST33lzD"
      }
    },
    {
      "cell_type": "markdown",
      "source": [
        "nous pouvons combiner les tensors avec les opérations arithmétiques habituelles"
      ],
      "metadata": {
        "id": "DhzLs3JQ38UT"
      }
    },
    {
      "cell_type": "code",
      "source": [
        "#Create tensors\n",
        "x = torch.tensor(3.)\n",
        "w = torch.tensor(4. , requires_grad=True)\n",
        "b = torch.tensor(6. , requires_grad=True)\n",
        "x , w , b"
      ],
      "metadata": {
        "colab": {
          "base_uri": "https://localhost:8080/"
        },
        "id": "fWN_2GWq3u8u",
        "outputId": "9def8957-f024-42ba-e96e-9189427f410c"
      },
      "execution_count": 26,
      "outputs": [
        {
          "output_type": "execute_result",
          "data": {
            "text/plain": [
              "(tensor(3.), tensor(4., requires_grad=True), tensor(6., requires_grad=True))"
            ]
          },
          "metadata": {},
          "execution_count": 26
        }
      ]
    },
    {
      "cell_type": "markdown",
      "source": [
        "Nous avons créé trois tenseurs : x , w et b , tous des nombres. w et b ont un paramètre supplémentaire \"requires_grad\" fixé à \"True\" ."
      ],
      "metadata": {
        "id": "tGVEHQaU4Wt9"
      }
    },
    {
      "cell_type": "code",
      "source": [
        "# Arithmetic operations\n",
        "y = w * x + b\n",
        "y"
      ],
      "metadata": {
        "colab": {
          "base_uri": "https://localhost:8080/"
        },
        "id": "6qZ7fNSa47X9",
        "outputId": "e66596b4-57f9-4b03-ff2c-41a01785a1d5"
      },
      "execution_count": 27,
      "outputs": [
        {
          "output_type": "execute_result",
          "data": {
            "text/plain": [
              "tensor(18., grad_fn=<AddBackward0>)"
            ]
          },
          "metadata": {},
          "execution_count": 27
        }
      ]
    },
    {
      "cell_type": "markdown",
      "source": [
        "Comme prévu, y est un tensor avec la valeur 3 * 4 + 6 = 18. La particularité de PyTorch est que nous pouvons calculer automatiquement la dérivée de y par rapport aux tensors pour lesquels la\n",
        "valeur de requires_grad est True, c'est-à-dire w et b.\n",
        "Pour calculer les dérivées, nous pouvons appeler la méthode .backward sur notre résultat y."
      ],
      "metadata": {
        "id": "1q2YbKbS6IS7"
      }
    },
    {
      "cell_type": "code",
      "source": [
        "# Compute derivatives\n",
        "y.backward()"
      ],
      "metadata": {
        "id": "FLsfSAc58FdK"
      },
      "execution_count": 28,
      "outputs": []
    },
    {
      "cell_type": "markdown",
      "source": [
        "Les dérivées de y par rapport aux tenseurs d'entrée sont stockées dans la propriété .grad des tenseurs respectifs."
      ],
      "metadata": {
        "id": "jc2V3pEf9jaj"
      }
    },
    {
      "cell_type": "code",
      "source": [
        "# Display gradients\n",
        "print('dy/dx:', x.grad)\n",
        "print('dy/dw:', w.grad)\n",
        "print('dy/db:', b.grad)"
      ],
      "metadata": {
        "colab": {
          "base_uri": "https://localhost:8080/"
        },
        "id": "lSsQxGW09kqM",
        "outputId": "bac2377b-91e1-4fb3-9376-b6e045a4c9c9"
      },
      "execution_count": 29,
      "outputs": [
        {
          "output_type": "stream",
          "name": "stdout",
          "text": [
            "dy/dx: None\n",
            "dy/dw: tensor(3.)\n",
            "dy/db: tensor(1.)\n"
          ]
        }
      ]
    },
    {
      "cell_type": "markdown",
      "source": [
        "Comme prévu, `dy/dw` a la même valeur que `x`, c'est-à-dire `3`, et `dy/db` a la valeur `1`. Notez que `x.grad` est `None`, parce que `x` n'a pas la valeur `True` dans `requires_grad`.\n",
        "\n",
        "Le \"grad\" dans `w.grad` signifie gradient, qui est un autre terme pour la dérivée, utilisé principalement pour les matrices."
      ],
      "metadata": {
        "id": "LI6RLTTn-dFs"
      }
    },
    {
      "cell_type": "markdown",
      "source": [
        "**Tensor functions**"
      ],
      "metadata": {
        "id": "HL0J3WNo-pkW"
      }
    },
    {
      "cell_type": "markdown",
      "source": [
        "En plus des opérations aérométriques, le module `torch` contient également de nombreuses fonctions pour créer et manipuler des tensors."
      ],
      "metadata": {
        "id": "KSP-dR5AFLQO"
      }
    },
    {
      "cell_type": "code",
      "source": [
        "#Create a tensor with a fixed value for every element\n",
        "t6 = torch.full((3 , 2) , 42)\n",
        "t6"
      ],
      "metadata": {
        "colab": {
          "base_uri": "https://localhost:8080/"
        },
        "id": "5L-P6Wo9FJdN",
        "outputId": "06f7b65b-dd8b-4654-aa01-ad36aeaef3c1"
      },
      "execution_count": 34,
      "outputs": [
        {
          "output_type": "execute_result",
          "data": {
            "text/plain": [
              "tensor([[42, 42],\n",
              "        [42, 42],\n",
              "        [42, 42]])"
            ]
          },
          "metadata": {},
          "execution_count": 34
        }
      ]
    },
    {
      "cell_type": "code",
      "source": [
        "t3"
      ],
      "metadata": {
        "colab": {
          "base_uri": "https://localhost:8080/"
        },
        "id": "e-oYnrhnIICY",
        "outputId": "f138b29e-ddfa-4d99-fefa-4539966e2c42"
      },
      "execution_count": 39,
      "outputs": [
        {
          "output_type": "execute_result",
          "data": {
            "text/plain": [
              "tensor([[ 5.,  6.],\n",
              "        [ 7.,  8.],\n",
              "        [ 9., 10.]])"
            ]
          },
          "metadata": {},
          "execution_count": 39
        }
      ]
    },
    {
      "cell_type": "code",
      "source": [
        "#Concatenate two tensors with compatible shapes\n",
        "t7 = torch.cat((t3 , t6))\n",
        "t7"
      ],
      "metadata": {
        "colab": {
          "base_uri": "https://localhost:8080/"
        },
        "id": "PFopJ_FbGiE8",
        "outputId": "7491a982-4b78-4be2-bc86-163c866145c8"
      },
      "execution_count": 36,
      "outputs": [
        {
          "output_type": "execute_result",
          "data": {
            "text/plain": [
              "tensor([[ 5.,  6.],\n",
              "        [ 7.,  8.],\n",
              "        [ 9., 10.],\n",
              "        [42., 42.],\n",
              "        [42., 42.],\n",
              "        [42., 42.]])"
            ]
          },
          "metadata": {},
          "execution_count": 36
        }
      ]
    },
    {
      "cell_type": "code",
      "source": [
        "# Compute the sin of each element\n",
        "t8 = torch.sin(t7)\n",
        "t8"
      ],
      "metadata": {
        "colab": {
          "base_uri": "https://localhost:8080/"
        },
        "id": "scp9SVghG64n",
        "outputId": "af7c0b8e-4b84-4721-9186-5ac4c45896a1"
      },
      "execution_count": 37,
      "outputs": [
        {
          "output_type": "execute_result",
          "data": {
            "text/plain": [
              "tensor([[-0.9589, -0.2794],\n",
              "        [ 0.6570,  0.9894],\n",
              "        [ 0.4121, -0.5440],\n",
              "        [-0.9165, -0.9165],\n",
              "        [-0.9165, -0.9165],\n",
              "        [-0.9165, -0.9165]])"
            ]
          },
          "metadata": {},
          "execution_count": 37
        }
      ]
    },
    {
      "cell_type": "code",
      "source": [
        "# Change the shape of a tensor\n",
        "t9 = t8.reshape(3, 2, 2)\n",
        "t9"
      ],
      "metadata": {
        "colab": {
          "base_uri": "https://localhost:8080/"
        },
        "id": "mCFlvAzUHLb0",
        "outputId": "02c839b8-1019-4c3b-c62d-3fca2c749082"
      },
      "execution_count": 40,
      "outputs": [
        {
          "output_type": "execute_result",
          "data": {
            "text/plain": [
              "tensor([[[-0.9589, -0.2794],\n",
              "         [ 0.6570,  0.9894]],\n",
              "\n",
              "        [[ 0.4121, -0.5440],\n",
              "         [-0.9165, -0.9165]],\n",
              "\n",
              "        [[-0.9165, -0.9165],\n",
              "         [-0.9165, -0.9165]]])"
            ]
          },
          "metadata": {},
          "execution_count": 40
        }
      ]
    },
    {
      "cell_type": "markdown",
      "source": [
        "**Interoperability with Numpy**"
      ],
      "metadata": {
        "id": "ng4rhuCDJgDZ"
      }
    },
    {
      "cell_type": "markdown",
      "source": [
        "Au lieu de réinventer la roue, PyTorch interagit très bien avec Numpy pour tirer parti de son écosystème existant d'outils et de bibliothèques.\n",
        "\n",
        "Voici comment créer un tableau dans Numpy :"
      ],
      "metadata": {
        "id": "cqDxO6lJ-8mv"
      }
    },
    {
      "cell_type": "code",
      "source": [
        "import numpy as np\n",
        "\n",
        "x = np.array([[1, 2], [3, 4.]])\n",
        "x"
      ],
      "metadata": {
        "colab": {
          "base_uri": "https://localhost:8080/"
        },
        "id": "UaeHowbT-fEt",
        "outputId": "29d7886d-1c15-477b-a537-947618055b83"
      },
      "execution_count": 30,
      "outputs": [
        {
          "output_type": "execute_result",
          "data": {
            "text/plain": [
              "array([[1., 2.],\n",
              "       [3., 4.]])"
            ]
          },
          "metadata": {},
          "execution_count": 30
        }
      ]
    },
    {
      "cell_type": "markdown",
      "source": [
        "Nous pouvons convertir un tableau Numpy en un tensor PyTorch en utilisant `torch.from_numpy`.\n",
        "\n",
        "\n"
      ],
      "metadata": {
        "id": "6DJeVF8D_bgq"
      }
    },
    {
      "cell_type": "code",
      "source": [
        "# Convert the numpy array to a torch tensor.\n",
        "y = torch.from_numpy(x)\n",
        "y"
      ],
      "metadata": {
        "colab": {
          "base_uri": "https://localhost:8080/"
        },
        "id": "uq4T69lp_isB",
        "outputId": "2df810c5-0968-44a0-e155-003ee6503c4d"
      },
      "execution_count": 31,
      "outputs": [
        {
          "output_type": "execute_result",
          "data": {
            "text/plain": [
              "tensor([[1., 2.],\n",
              "        [3., 4.]], dtype=torch.float64)"
            ]
          },
          "metadata": {},
          "execution_count": 31
        }
      ]
    },
    {
      "cell_type": "markdown",
      "source": [
        "Vérifions que les tableaux numpy et les tensolrs torch ont des types de données similaires."
      ],
      "metadata": {
        "id": "jSjypDuqAG_O"
      }
    },
    {
      "cell_type": "code",
      "source": [
        "x.dtype, y.dtype"
      ],
      "metadata": {
        "colab": {
          "base_uri": "https://localhost:8080/"
        },
        "id": "ODLFZ50gAMbj",
        "outputId": "653896a8-1430-4fd8-cb44-1da7089bf0af"
      },
      "execution_count": 32,
      "outputs": [
        {
          "output_type": "execute_result",
          "data": {
            "text/plain": [
              "(dtype('float64'), torch.float64)"
            ]
          },
          "metadata": {},
          "execution_count": 32
        }
      ]
    },
    {
      "cell_type": "markdown",
      "source": [
        "Nous pouvons convertir un tensor PyTorch en un tableau Numpy en utilisant la méthode `.numpy` d'un tensor."
      ],
      "metadata": {
        "id": "QGMDd315AvGe"
      }
    },
    {
      "cell_type": "code",
      "source": [
        "# Convert a torch tensor to a numpy array\n",
        "z = y.numpy()\n",
        "z"
      ],
      "metadata": {
        "colab": {
          "base_uri": "https://localhost:8080/"
        },
        "id": "sBCSCtLdA1eH",
        "outputId": "c6897e6a-2461-47f7-f90c-f5f0233d1a76"
      },
      "execution_count": 33,
      "outputs": [
        {
          "output_type": "execute_result",
          "data": {
            "text/plain": [
              "array([[1., 2.],\n",
              "       [3., 4.]])"
            ]
          },
          "metadata": {},
          "execution_count": 33
        }
      ]
    },
    {
      "cell_type": "markdown",
      "source": [
        "L'interopérabilité entre PyTorch et Numpy est vraiment importante car la plupart des ensembles de données avec lesquels vous travaillerez seront probablement lus et prétraités sous forme de tableaux Numpy.\n",
        "Vous pouvez vous demander pourquoi nous avons besoin d'une bibliothèque comme PyTorch puisque Numpy fournit déjà des structures de données et des utilitaires pour travailler avec des données numériques multidimensionnelles . Il y a deux raisons principales :\n",
        "1. **Autograd** : La capacité à calculer\n",
        "automatiquement les gradients pour les opérations tensorielles est essentielle pour la formation des modèles d'apprentissage profond.\n",
        "2. **GPU support** : lors du travail avec des ensembles de données massifs et des modèles de grande taille. Les opérations tensorielles de PyTorch peuvent être effectuées efficacement à l'aide d'une unité de traitement graphique (GPU). Les calculs qui peuvent prendre des heures peuvent être effectués en quelques minutes grâce aux GPU.\n"
      ],
      "metadata": {
        "id": "guLK0p1JBPRR"
      }
    },
    {
      "cell_type": "markdown",
      "source": [
        "**Save and upload your notebook**"
      ],
      "metadata": {
        "id": "A3B42L5mQAEV"
      }
    },
    {
      "cell_type": "code",
      "source": [
        "!pip install jovian --upgrade --quiet"
      ],
      "metadata": {
        "colab": {
          "base_uri": "https://localhost:8080/"
        },
        "id": "FjnzMPjaBR0n",
        "outputId": "81e837a4-9838-4543-8e8d-91cb76a980ed"
      },
      "execution_count": 1,
      "outputs": [
        {
          "output_type": "stream",
          "name": "stdout",
          "text": [
            "\u001b[?25l     \u001b[90m━━━━━━━━━━━━━━━━━━━━━━━━━━━━━━━━━━━━━━━━\u001b[0m \u001b[32m0.0/68.6 kB\u001b[0m \u001b[31m?\u001b[0m eta \u001b[36m-:--:--\u001b[0m\r\u001b[2K     \u001b[91m━━━━━━━━━━━━━━━━━\u001b[0m\u001b[91m╸\u001b[0m\u001b[90m━━━━━━━━━━━━━━━━━━━━━━\u001b[0m \u001b[32m30.7/68.6 kB\u001b[0m \u001b[31m753.0 kB/s\u001b[0m eta \u001b[36m0:00:01\u001b[0m\r\u001b[2K     \u001b[90m━━━━━━━━━━━━━━━━━━━━━━━━━━━━━━━━━━━━━━━━\u001b[0m \u001b[32m68.6/68.6 kB\u001b[0m \u001b[31m851.0 kB/s\u001b[0m eta \u001b[36m0:00:00\u001b[0m\n",
            "\u001b[?25h  Preparing metadata (setup.py) ... \u001b[?25l\u001b[?25hdone\n",
            "  Building wheel for uuid (setup.py) ... \u001b[?25l\u001b[?25hdone\n"
          ]
        }
      ]
    },
    {
      "cell_type": "code",
      "source": [
        "import jovian"
      ],
      "metadata": {
        "id": "lScCbGjZQc7-"
      },
      "execution_count": 2,
      "outputs": []
    },
    {
      "cell_type": "code",
      "source": [
        "jovian.commit(project='0l-pytorch-basics-live')"
      ],
      "metadata": {
        "colab": {
          "base_uri": "https://localhost:8080/"
        },
        "id": "JaE2KLebSop7",
        "outputId": "cd017ffd-2264-46aa-b598-2c1696e598c1"
      },
      "execution_count": 3,
      "outputs": [
        {
          "output_type": "stream",
          "name": "stdout",
          "text": [
            "[jovian] Detected Colab notebook...\u001b[0m\n",
            "[jovian] jovian.commit() is no longer required on Google Colab. If you ran this notebook from Jovian, \n",
            "then just save this file in Colab using Ctrl+S/Cmd+S and it will be updated on Jovian. \n",
            "Also, you can also delete this cell, it's no longer necessary.\u001b[0m\n"
          ]
        }
      ]
    },
    {
      "cell_type": "code",
      "source": [],
      "metadata": {
        "id": "lkOxfTOJMG66"
      },
      "execution_count": null,
      "outputs": []
    }
  ]
}